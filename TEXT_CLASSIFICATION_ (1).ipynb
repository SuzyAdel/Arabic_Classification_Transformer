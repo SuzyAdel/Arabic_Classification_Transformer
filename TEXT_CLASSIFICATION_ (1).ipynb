{
  "nbformat": 4,
  "nbformat_minor": 0,
  "metadata": {
    "colab": {
      "provenance": [],
      "gpuType": "T4"
    },
    "kernelspec": {
      "name": "python3",
      "display_name": "Python 3"
    },
    "language_info": {
      "name": "python"
    },
    "accelerator": "GPU"
  },
  "cells": [
    {
      "cell_type": "code",
      "execution_count": 1,
      "metadata": {
        "colab": {
          "base_uri": "https://localhost:8080/"
        },
        "id": "f8goeS_FVgSv",
        "outputId": "052a9e95-8c60-4d1d-8052-cb0e103f0067"
      },
      "outputs": [
        {
          "output_type": "stream",
          "name": "stdout",
          "text": [
            "Requirement already satisfied: gensim in /usr/local/lib/python3.11/dist-packages (4.3.3)\n",
            "Requirement already satisfied: tensorflow in /usr/local/lib/python3.11/dist-packages (2.18.0)\n",
            "Requirement already satisfied: numpy in /usr/local/lib/python3.11/dist-packages (1.26.4)\n",
            "Requirement already satisfied: pandas in /usr/local/lib/python3.11/dist-packages (2.2.2)\n",
            "Requirement already satisfied: scikit-learn in /usr/local/lib/python3.11/dist-packages (1.6.1)\n",
            "Requirement already satisfied: matplotlib in /usr/local/lib/python3.11/dist-packages (3.10.0)\n",
            "Requirement already satisfied: seaborn in /usr/local/lib/python3.11/dist-packages (0.13.2)\n",
            "Requirement already satisfied: scipy<1.14.0,>=1.7.0 in /usr/local/lib/python3.11/dist-packages (from gensim) (1.13.1)\n",
            "Requirement already satisfied: smart-open>=1.8.1 in /usr/local/lib/python3.11/dist-packages (from gensim) (7.1.0)\n",
            "Requirement already satisfied: absl-py>=1.0.0 in /usr/local/lib/python3.11/dist-packages (from tensorflow) (1.4.0)\n",
            "Requirement already satisfied: astunparse>=1.6.0 in /usr/local/lib/python3.11/dist-packages (from tensorflow) (1.6.3)\n",
            "Requirement already satisfied: flatbuffers>=24.3.25 in /usr/local/lib/python3.11/dist-packages (from tensorflow) (25.2.10)\n",
            "Requirement already satisfied: gast!=0.5.0,!=0.5.1,!=0.5.2,>=0.2.1 in /usr/local/lib/python3.11/dist-packages (from tensorflow) (0.6.0)\n",
            "Requirement already satisfied: google-pasta>=0.1.1 in /usr/local/lib/python3.11/dist-packages (from tensorflow) (0.2.0)\n",
            "Requirement already satisfied: libclang>=13.0.0 in /usr/local/lib/python3.11/dist-packages (from tensorflow) (18.1.1)\n",
            "Requirement already satisfied: opt-einsum>=2.3.2 in /usr/local/lib/python3.11/dist-packages (from tensorflow) (3.4.0)\n",
            "Requirement already satisfied: packaging in /usr/local/lib/python3.11/dist-packages (from tensorflow) (24.2)\n",
            "Requirement already satisfied: protobuf!=4.21.0,!=4.21.1,!=4.21.2,!=4.21.3,!=4.21.4,!=4.21.5,<6.0.0dev,>=3.20.3 in /usr/local/lib/python3.11/dist-packages (from tensorflow) (4.25.6)\n",
            "Requirement already satisfied: requests<3,>=2.21.0 in /usr/local/lib/python3.11/dist-packages (from tensorflow) (2.32.3)\n",
            "Requirement already satisfied: setuptools in /usr/local/lib/python3.11/dist-packages (from tensorflow) (75.1.0)\n",
            "Requirement already satisfied: six>=1.12.0 in /usr/local/lib/python3.11/dist-packages (from tensorflow) (1.17.0)\n",
            "Requirement already satisfied: termcolor>=1.1.0 in /usr/local/lib/python3.11/dist-packages (from tensorflow) (2.5.0)\n",
            "Requirement already satisfied: typing-extensions>=3.6.6 in /usr/local/lib/python3.11/dist-packages (from tensorflow) (4.12.2)\n",
            "Requirement already satisfied: wrapt>=1.11.0 in /usr/local/lib/python3.11/dist-packages (from tensorflow) (1.17.2)\n",
            "Requirement already satisfied: grpcio<2.0,>=1.24.3 in /usr/local/lib/python3.11/dist-packages (from tensorflow) (1.71.0)\n",
            "Requirement already satisfied: tensorboard<2.19,>=2.18 in /usr/local/lib/python3.11/dist-packages (from tensorflow) (2.18.0)\n",
            "Requirement already satisfied: keras>=3.5.0 in /usr/local/lib/python3.11/dist-packages (from tensorflow) (3.8.0)\n",
            "Requirement already satisfied: h5py>=3.11.0 in /usr/local/lib/python3.11/dist-packages (from tensorflow) (3.12.1)\n",
            "Requirement already satisfied: ml-dtypes<0.5.0,>=0.4.0 in /usr/local/lib/python3.11/dist-packages (from tensorflow) (0.4.1)\n",
            "Requirement already satisfied: tensorflow-io-gcs-filesystem>=0.23.1 in /usr/local/lib/python3.11/dist-packages (from tensorflow) (0.37.1)\n",
            "Requirement already satisfied: python-dateutil>=2.8.2 in /usr/local/lib/python3.11/dist-packages (from pandas) (2.8.2)\n",
            "Requirement already satisfied: pytz>=2020.1 in /usr/local/lib/python3.11/dist-packages (from pandas) (2025.1)\n",
            "Requirement already satisfied: tzdata>=2022.7 in /usr/local/lib/python3.11/dist-packages (from pandas) (2025.1)\n",
            "Requirement already satisfied: joblib>=1.2.0 in /usr/local/lib/python3.11/dist-packages (from scikit-learn) (1.4.2)\n",
            "Requirement already satisfied: threadpoolctl>=3.1.0 in /usr/local/lib/python3.11/dist-packages (from scikit-learn) (3.6.0)\n",
            "Requirement already satisfied: contourpy>=1.0.1 in /usr/local/lib/python3.11/dist-packages (from matplotlib) (1.3.1)\n",
            "Requirement already satisfied: cycler>=0.10 in /usr/local/lib/python3.11/dist-packages (from matplotlib) (0.12.1)\n",
            "Requirement already satisfied: fonttools>=4.22.0 in /usr/local/lib/python3.11/dist-packages (from matplotlib) (4.56.0)\n",
            "Requirement already satisfied: kiwisolver>=1.3.1 in /usr/local/lib/python3.11/dist-packages (from matplotlib) (1.4.8)\n",
            "Requirement already satisfied: pillow>=8 in /usr/local/lib/python3.11/dist-packages (from matplotlib) (11.1.0)\n",
            "Requirement already satisfied: pyparsing>=2.3.1 in /usr/local/lib/python3.11/dist-packages (from matplotlib) (3.2.1)\n",
            "Requirement already satisfied: wheel<1.0,>=0.23.0 in /usr/local/lib/python3.11/dist-packages (from astunparse>=1.6.0->tensorflow) (0.45.1)\n",
            "Requirement already satisfied: rich in /usr/local/lib/python3.11/dist-packages (from keras>=3.5.0->tensorflow) (13.9.4)\n",
            "Requirement already satisfied: namex in /usr/local/lib/python3.11/dist-packages (from keras>=3.5.0->tensorflow) (0.0.8)\n",
            "Requirement already satisfied: optree in /usr/local/lib/python3.11/dist-packages (from keras>=3.5.0->tensorflow) (0.14.1)\n",
            "Requirement already satisfied: charset-normalizer<4,>=2 in /usr/local/lib/python3.11/dist-packages (from requests<3,>=2.21.0->tensorflow) (3.4.1)\n",
            "Requirement already satisfied: idna<4,>=2.5 in /usr/local/lib/python3.11/dist-packages (from requests<3,>=2.21.0->tensorflow) (3.10)\n",
            "Requirement already satisfied: urllib3<3,>=1.21.1 in /usr/local/lib/python3.11/dist-packages (from requests<3,>=2.21.0->tensorflow) (2.3.0)\n",
            "Requirement already satisfied: certifi>=2017.4.17 in /usr/local/lib/python3.11/dist-packages (from requests<3,>=2.21.0->tensorflow) (2025.1.31)\n",
            "Requirement already satisfied: markdown>=2.6.8 in /usr/local/lib/python3.11/dist-packages (from tensorboard<2.19,>=2.18->tensorflow) (3.7)\n",
            "Requirement already satisfied: tensorboard-data-server<0.8.0,>=0.7.0 in /usr/local/lib/python3.11/dist-packages (from tensorboard<2.19,>=2.18->tensorflow) (0.7.2)\n",
            "Requirement already satisfied: werkzeug>=1.0.1 in /usr/local/lib/python3.11/dist-packages (from tensorboard<2.19,>=2.18->tensorflow) (3.1.3)\n",
            "Requirement already satisfied: MarkupSafe>=2.1.1 in /usr/local/lib/python3.11/dist-packages (from werkzeug>=1.0.1->tensorboard<2.19,>=2.18->tensorflow) (3.0.2)\n",
            "Requirement already satisfied: markdown-it-py>=2.2.0 in /usr/local/lib/python3.11/dist-packages (from rich->keras>=3.5.0->tensorflow) (3.0.0)\n",
            "Requirement already satisfied: pygments<3.0.0,>=2.13.0 in /usr/local/lib/python3.11/dist-packages (from rich->keras>=3.5.0->tensorflow) (2.18.0)\n",
            "Requirement already satisfied: mdurl~=0.1 in /usr/local/lib/python3.11/dist-packages (from markdown-it-py>=2.2.0->rich->keras>=3.5.0->tensorflow) (0.1.2)\n"
          ]
        }
      ],
      "source": [
        "!pip install gensim tensorflow numpy pandas scikit-learn matplotlib seaborn"
      ]
    },
    {
      "cell_type": "code",
      "source": [
        "import gensim\n",
        "import numpy as np\n",
        "import pandas as pd\n",
        "import tensorflow as tf\n",
        "import re\n",
        "import matplotlib.pyplot as plt\n",
        "import seaborn as sns\n",
        "\n",
        "from sklearn.model_selection import train_test_split\n",
        "from sklearn.metrics import classification_report, confusion_matrix\n",
        "from tensorflow.keras.preprocessing.text import Tokenizer\n",
        "from tensorflow.keras.preprocessing.sequence import pad_sequences\n",
        "from tensorflow.keras.models import Sequential\n",
        "from tensorflow.keras.layers import Embedding, LSTM, GRU, Dropout, Dense, Bidirectional\n",
        "from tensorflow.keras.optimizers import Adam"
      ],
      "metadata": {
        "id": "rZQmGr6TVsoT"
      },
      "execution_count": 2,
      "outputs": []
    },
    {
      "cell_type": "code",
      "source": [
        "# Load dataset\n",
        "df = pd.read_csv('/content/drive/MyDrive/a1/arabic_reviews.csv')\n",
        "\n",
        "# Show some rows to ensure dataset is correctly loaded\n",
        "print(\"Sample Data:\")\n",
        "print(df.head())\n",
        "\n",
        "# Check class balance\n",
        "print(\"Class Distribution:\")\n",
        "print(df['label'].value_counts())"
      ],
      "metadata": {
        "id": "nuWA9ffCV5fN",
        "colab": {
          "base_uri": "https://localhost:8080/"
        },
        "outputId": "254dff46-367f-4338-a8fd-56b604a98a8e"
      },
      "execution_count": 3,
      "outputs": [
        {
          "output_type": "stream",
          "name": "stdout",
          "text": [
            "Sample Data:\n",
            "      label                                               text\n",
            "0  Positive  ممتاز نوعا ما . النظافة والموقع والتجهيز والشا...\n",
            "1  Positive  أحد أسباب نجاح الإمارات أن كل شخص في هذه الدول...\n",
            "2  Positive  هادفة .. وقوية. تنقلك من صخب شوارع القاهرة الى...\n",
            "3  Positive  خلصنا .. مبدئيا اللي مستني ابهار زي الفيل الاز...\n",
            "4  Positive  ياسات جلوريا جزء لا يتجزأ من دبي . فندق متكامل...\n",
            "Class Distribution:\n",
            "label\n",
            "Positive    33333\n",
            "Mixed       33333\n",
            "Negative    33333\n",
            "Name: count, dtype: int64\n"
          ]
        }
      ]
    },
    {
      "cell_type": "code",
      "source": [
        "import pandas as pd\n",
        "import matplotlib.pyplot as plt\n",
        "import seaborn as sns\n",
        "\n",
        "# Check first few rows\n",
        "print(df.head())\n",
        "\n",
        "# Check label distribution\n",
        "plt.figure(figsize=(6, 4))\n",
        "sns.countplot(x=df['label'], palette=\"Set2\")\n",
        "plt.title(\"🔹 Class Distribution\")\n",
        "plt.show()\n"
      ],
      "metadata": {
        "id": "906qpPKLV5ch",
        "colab": {
          "base_uri": "https://localhost:8080/",
          "height": 647
        },
        "outputId": "64d70002-8f6b-4f78-b044-c94b08d93b4b"
      },
      "execution_count": 4,
      "outputs": [
        {
          "output_type": "stream",
          "name": "stdout",
          "text": [
            "      label                                               text\n",
            "0  Positive  ممتاز نوعا ما . النظافة والموقع والتجهيز والشا...\n",
            "1  Positive  أحد أسباب نجاح الإمارات أن كل شخص في هذه الدول...\n",
            "2  Positive  هادفة .. وقوية. تنقلك من صخب شوارع القاهرة الى...\n",
            "3  Positive  خلصنا .. مبدئيا اللي مستني ابهار زي الفيل الاز...\n",
            "4  Positive  ياسات جلوريا جزء لا يتجزأ من دبي . فندق متكامل...\n"
          ]
        },
        {
          "output_type": "stream",
          "name": "stderr",
          "text": [
            "<ipython-input-4-3c014d0a1fdc>:10: FutureWarning: \n",
            "\n",
            "Passing `palette` without assigning `hue` is deprecated and will be removed in v0.14.0. Assign the `x` variable to `hue` and set `legend=False` for the same effect.\n",
            "\n",
            "  sns.countplot(x=df['label'], palette=\"Set2\")\n",
            "/usr/local/lib/python3.11/dist-packages/IPython/core/pylabtools.py:151: UserWarning: Glyph 128313 (\\N{SMALL BLUE DIAMOND}) missing from font(s) DejaVu Sans.\n",
            "  fig.canvas.print_figure(bytes_io, **kw)\n"
          ]
        },
        {
          "output_type": "display_data",
          "data": {
            "text/plain": [
              "<Figure size 600x400 with 1 Axes>"
            ],
            "image/png": "[encoded data removed]"
          },
          "metadata": {}
        }
      ]
    },
    {
      "cell_type": "code",
      "source": [
        "!pip install arabic-reshaper"
      ],
      "metadata": {
        "id": "rqvW3kVXYrBT",
        "colab": {
          "base_uri": "https://localhost:8080/"
        },
        "outputId": "a7e87cf2-6ec3-4019-e1da-b4eed8ac5bed"
      },
      "execution_count": 5,
      "outputs": [
        {
          "output_type": "stream",
          "name": "stdout",
          "text": [
            "Collecting arabic-reshaper\n",
            "  Downloading arabic_reshaper-3.0.0-py3-none-any.whl.metadata (12 kB)\n",
            "Downloading arabic_reshaper-3.0.0-py3-none-any.whl (20 kB)\n",
            "Installing collected packages: arabic-reshaper\n",
            "Successfully installed arabic-reshaper-3.0.0\n"
          ]
        }
      ]
    },
    {
      "cell_type": "code",
      "source": [
        "!pip install tashaphyne"
      ],
      "metadata": {
        "id": "h21R5VwMY0ZI",
        "colab": {
          "base_uri": "https://localhost:8080/"
        },
        "outputId": "ab0c44df-143c-41b5-f707-3c4cebffb6e8"
      },
      "execution_count": 6,
      "outputs": [
        {
          "output_type": "stream",
          "name": "stdout",
          "text": [
            "Collecting tashaphyne\n",
            "  Downloading Tashaphyne-0.3.6-py3-none-any.whl.metadata (18 kB)\n",
            "Collecting pyarabic (from tashaphyne)\n",
            "  Downloading PyArabic-0.6.15-py3-none-any.whl.metadata (10 kB)\n",
            "Requirement already satisfied: six>=1.14.0 in /usr/local/lib/python3.11/dist-packages (from pyarabic->tashaphyne) (1.17.0)\n",
            "Downloading Tashaphyne-0.3.6-py3-none-any.whl (251 kB)\n",
            "\u001b[2K   \u001b[90m━━━━━━━━━━━━━━━━━━━━━━━━━━━━━━━━━━━━━━━━\u001b[0m \u001b[32m251.5/251.5 kB\u001b[0m \u001b[31m10.2 MB/s\u001b[0m eta \u001b[36m0:00:00\u001b[0m\n",
            "\u001b[?25hDownloading PyArabic-0.6.15-py3-none-any.whl (126 kB)\n",
            "\u001b[2K   \u001b[90m━━━━━━━━━━━━━━━━━━━━━━━━━━━━━━━━━━━━━━━━\u001b[0m \u001b[32m126.4/126.4 kB\u001b[0m \u001b[31m12.4 MB/s\u001b[0m eta \u001b[36m0:00:00\u001b[0m\n",
            "\u001b[?25hInstalling collected packages: pyarabic, tashaphyne\n",
            "Successfully installed pyarabic-0.6.15 tashaphyne-0.3.6\n"
          ]
        }
      ]
    },
    {
      "cell_type": "code",
      "source": [
        "!pip install nltk\n",
        "import nltk\n",
        "nltk.download('punkt')\n",
        "nltk.download('stopwords')\n",
        "nltk.download('punkt_tab')"
      ],
      "metadata": {
        "id": "6APWMDhmZDQd",
        "colab": {
          "base_uri": "https://localhost:8080/"
        },
        "outputId": "5183303c-1e48-4ca8-e9b4-a94066be299b"
      },
      "execution_count": 7,
      "outputs": [
        {
          "output_type": "stream",
          "name": "stdout",
          "text": [
            "Requirement already satisfied: nltk in /usr/local/lib/python3.11/dist-packages (3.9.1)\n",
            "Requirement already satisfied: click in /usr/local/lib/python3.11/dist-packages (from nltk) (8.1.8)\n",
            "Requirement already satisfied: joblib in /usr/local/lib/python3.11/dist-packages (from nltk) (1.4.2)\n",
            "Requirement already satisfied: regex>=2021.8.3 in /usr/local/lib/python3.11/dist-packages (from nltk) (2024.11.6)\n",
            "Requirement already satisfied: tqdm in /usr/local/lib/python3.11/dist-packages (from nltk) (4.67.1)\n"
          ]
        },
        {
          "output_type": "stream",
          "name": "stderr",
          "text": [
            "[nltk_data] Downloading package punkt to /root/nltk_data...\n",
            "[nltk_data]   Unzipping tokenizers/punkt.zip.\n",
            "[nltk_data] Downloading package stopwords to /root/nltk_data...\n",
            "[nltk_data]   Unzipping corpora/stopwords.zip.\n",
            "[nltk_data] Downloading package punkt_tab to /root/nltk_data...\n",
            "[nltk_data]   Unzipping tokenizers/punkt_tab.zip.\n"
          ]
        },
        {
          "output_type": "execute_result",
          "data": {
            "text/plain": [
              "True"
            ]
          },
          "metadata": {},
          "execution_count": 7
        }
      ]
    },
    {
      "cell_type": "code",
      "source": [
        "import re\n",
        "import arabic_reshaper\n",
        "from tashaphyne.stemming import ArabicLightStemmer\n",
        "from nltk.tokenize import word_tokenize\n",
        "from nltk.corpus import stopwords\n",
        "\n",
        "# Arabic stopwords list\n",
        "stop_words = set(stopwords.words(\"arabic\"))\n",
        "\n",
        "def clean_text(text):\n",
        "    # Normalize Arabic letters\n",
        "    text = re.sub(r\"[إأآا]\", \"ا\", text)\n",
        "    text = re.sub(r\"ى\", \"ي\", text)\n",
        "    text = re.sub(r\"ؤ\", \"و\", text)\n",
        "    text = re.sub(r\"ئ\", \"ي\", text)\n",
        "    text = re.sub(r\"ة\", \"ه\", text)\n",
        "\n",
        "    # Remove punctuation and numbers\n",
        "    text = re.sub(r\"[^\\w\\s]\", \"\", text)\n",
        "    text = re.sub(r\"\\d+\", \"\", text)\n",
        "\n",
        "    # Tokenize and remove stopwords\n",
        "    words = word_tokenize(text)\n",
        "    words = [word for word in words if word not in stop_words]\n",
        "\n",
        "    return \" \".join(words)\n",
        "\n",
        "# Apply cleaning\n",
        "df['clean_text'] = df['text'].apply(clean_text)\n",
        "\n",
        "# Show cleaned samples\n",
        "print(df[['text', 'clean_text']].head())"
      ],
      "metadata": {
        "id": "lDTStNpcV5aI",
        "colab": {
          "base_uri": "https://localhost:8080/"
        },
        "outputId": "becf7d5d-6605-4ea9-ed1f-235d068f92f5"
      },
      "execution_count": 8,
      "outputs": [
        {
          "output_type": "stream",
          "name": "stdout",
          "text": [
            "                                                text  \\\n",
            "0  ممتاز نوعا ما . النظافة والموقع والتجهيز والشا...   \n",
            "1  أحد أسباب نجاح الإمارات أن كل شخص في هذه الدول...   \n",
            "2  هادفة .. وقوية. تنقلك من صخب شوارع القاهرة الى...   \n",
            "3  خلصنا .. مبدئيا اللي مستني ابهار زي الفيل الاز...   \n",
            "4  ياسات جلوريا جزء لا يتجزأ من دبي . فندق متكامل...   \n",
            "\n",
            "                                          clean_text  \n",
            "0  ممتاز نوعا النظافه والموقع والتجهيز والشاطيء ا...  \n",
            "1  احد اسباب نجاح الامارات ان شخص الدوله يعشق ترا...  \n",
            "2  هادفه وقويه تنقلك صخب شوارع القاهره الي هدوء ج...  \n",
            "3  خلصنا مبدييا اللي مستني ابهار زي الفيل الازرق ...  \n",
            "4  ياسات جلوريا جزء يتجزا دبي فندق متكامل الخدمات...  \n"
          ]
        }
      ]
    },
    {
      "cell_type": "code",
      "source": [
        "from gensim.models import KeyedVectors"
      ],
      "metadata": {
        "id": "WF3EV44FV5Xf"
      },
      "execution_count": 9,
      "outputs": []
    },
    {
      "cell_type": "code",
      "source": [
        "import os\n",
        "import shutil  # For deleting folders if needed\n",
        "from zipfile import ZipFile  # Importing ZipFile to handle zip files"
      ],
      "metadata": {
        "id": "CqYvd0GnV5U7"
      },
      "execution_count": 10,
      "outputs": []
    },
    {
      "cell_type": "code",
      "source": [
        "# Define paths\n",
        "zip_path = \"/content/drive/MyDrive/a1/Twt-CBOW.zip\"\n",
        "extract_folder = \"/content/aravec_model\"\n",
        "model_path = os.path.join(extract_folder, \"Twt-CBOW\")\n",
        "\n",
        "# Check if already unzipped, if not then unzip\n",
        "if not os.path.exists(model_path):\n",
        "    print(\"Unzipping AraVec embeddings...\")\n",
        "    # Remove any previously unzipped folder to prevent conflicts\n",
        "    if os.path.exists(extract_folder):\n",
        "        !rm -rf {extract_folder}\n",
        "\n",
        "    # Unzipping\n",
        "    os.makedirs(extract_folder, exist_ok=True)\n",
        "    with ZipFile(zip_path, 'r') as zip_ref:\n",
        "        zip_ref.extractall(extract_folder)\n",
        "    print(\"Successfully unzipped!\")\n",
        "else:\n",
        "    print(\"AraVec embeddings already extracted.\")"
      ],
      "metadata": {
        "id": "tCRHDjAnV5SX",
        "colab": {
          "base_uri": "https://localhost:8080/"
        },
        "outputId": "b8d6bd93-69a7-418b-c483-8f2b1913fcd9"
      },
      "execution_count": 12,
      "outputs": [
        {
          "output_type": "stream",
          "name": "stdout",
          "text": [
            "Unzipping AraVec embeddings...\n",
            "Successfully unzipped!\n"
          ]
        }
      ]
    },
    {
      "cell_type": "code",
      "source": [
        "# Check the extracted folder contents\n",
        "extracted_files = os.listdir(\"/content/aravec_model\")\n",
        "print(extracted_files)"
      ],
      "metadata": {
        "id": "C8mEet1IV5QD",
        "colab": {
          "base_uri": "https://localhost:8080/"
        },
        "outputId": "9725ae0d-b789-41b5-d9e9-95642d65e058"
      },
      "execution_count": 13,
      "outputs": [
        {
          "output_type": "stream",
          "name": "stdout",
          "text": [
            "['Twt-CBOW', 'Twt-CBOW.wv.syn0.npy', 'Twt-CBOW.syn1neg.npy']\n"
          ]
        }
      ]
    },
    {
      "cell_type": "code",
      "source": [
        "import os\n",
        "print(os.path.exists(\"/content/aravec_model/Twt-CBOW\"))  # Should print True"
      ],
      "metadata": {
        "id": "Q406Br4efr4s",
        "colab": {
          "base_uri": "https://localhost:8080/"
        },
        "outputId": "82eb018d-273b-48a3-9cf2-64e502c498df"
      },
      "execution_count": 14,
      "outputs": [
        {
          "output_type": "stream",
          "name": "stdout",
          "text": [
            "True\n"
          ]
        }
      ]
    },
    {
      "cell_type": "code",
      "source": [
        "print(os.listdir(\"/content/aravec_model\"))"
      ],
      "metadata": {
        "id": "6UUr7AsAfrto",
        "colab": {
          "base_uri": "https://localhost:8080/"
        },
        "outputId": "2cb06d9f-577d-4859-a7be-c6736e46debc"
      },
      "execution_count": 15,
      "outputs": [
        {
          "output_type": "stream",
          "name": "stdout",
          "text": [
            "['Twt-CBOW', 'Twt-CBOW.wv.syn0.npy', 'Twt-CBOW.syn1neg.npy']\n"
          ]
        }
      ]
    },
    {
      "cell_type": "code",
      "source": [
        "#!mv /content/aravec_model/Twt-CBOW /content/aravec_model/Twt-CBOW.bin"
      ],
      "metadata": {
        "id": "lgNO1IRSgAnJ"
      },
      "execution_count": 16,
      "outputs": []
    },
    {
      "cell_type": "code",
      "source": [
        "from gensim.models import KeyedVectors\n",
        "import os\n",
        "\n",
        "# Assuming you extracted the AraVec model to '/content/aravec_model'\n",
        "model_file = \"/content/aravec_model/Twt-CBOW\"\n",
        "# model_file = \"Twt-CBOW\"\n",
        "\n",
        "#aravec_path = os.path.join(model_folder, model_file)\n",
        "\n",
        "# Load the AraVec model\n",
        "#aravec = KeyedVectors.load_word2vec_format(model_file, binary=False, encoding='utf8', unicode_errors='replace')\n",
        "aravec = gensim.models.Word2Vec.load(model_file)\n",
        "# Tokenize words and prepare embedding matrix\n",
        "from tensorflow.keras.preprocessing.text import Tokenizer\n",
        "from tensorflow.keras.preprocessing.sequence import pad_sequences\n",
        "import numpy as np\n",
        "\n",
        "# Tokenize dataset\n",
        "tokenizer = Tokenizer()\n",
        "tokenizer.fit_on_texts(df['clean_text'])\n",
        "word_index = tokenizer.word_index\n",
        "vocab_size = len(word_index) + 1  # +1 for padding\n",
        "\n",
        "# Create embedding matrix\n",
        "embedding_dim = 300  # AraVec uses 300-dimensional embeddings\n",
        "embedding_matrix = np.zeros((vocab_size, embedding_dim))\n",
        "\n",
        "for word, i in word_index.items():\n",
        "    if word in aravec.wv:\n",
        "        embedding_matrix[i] = aravec.wv[word]\n",
        "\n",
        "print(f\"✅ Loaded AraVec embeddings for {len(embedding_matrix)} words.\")\n"
      ],
      "metadata": {
        "id": "Y71VDetuV5H3",
        "colab": {
          "base_uri": "https://localhost:8080/"
        },
        "outputId": "e3a7fcac-dc07-4547-b57e-62864801544e"
      },
      "execution_count": 18,
      "outputs": [
        {
          "output_type": "stream",
          "name": "stdout",
          "text": [
            "✅ Loaded AraVec embeddings for 282203 words.\n"
          ]
        }
      ]
    },
    {
      "cell_type": "code",
      "source": [
        "from sklearn.model_selection import train_test_split\n",
        "import tensorflow as tf\n",
        "\n",
        "# Encode labels (Negative = 0, Mixed = 1, Positive = 2)\n",
        "label_mapping = {'Negative': 0, 'Mixed': 1, 'Positive': 2}\n",
        "df['label_id'] = df['label'].map(label_mapping)\n",
        "\n",
        "# Train-Test Split\n",
        "X_train, X_test, y_train, y_test = train_test_split(\n",
        "    df['clean_text'], df['label_id'], test_size=0.1, random_state=42, stratify=df['label_id']\n",
        ")\n",
        "\n",
        "# Convert text to sequences\n",
        "max_length = 100  # Adjust as needed\n",
        "X_train_seq = pad_sequences(tokenizer.texts_to_sequences(X_train), maxlen=max_length, padding='post')\n",
        "X_test_seq = pad_sequences(tokenizer.texts_to_sequences(X_test), maxlen=max_length, padding='post')\n",
        "\n",
        "# Convert labels to categorical (for softmax)\n",
        "y_train = tf.keras.utils.to_categorical(y_train, num_classes=3)\n",
        "y_test = tf.keras.utils.to_categorical(y_test, num_classes=3)\n",
        "\n",
        "print(\"✅ Data successfully prepared for training.\")"
      ],
      "metadata": {
        "id": "5wFjK4vYV5FD",
        "colab": {
          "base_uri": "https://localhost:8080/"
        },
        "outputId": "f87d170e-4a15-4907-8a70-86f8988923f7"
      },
      "execution_count": 19,
      "outputs": [
        {
          "output_type": "stream",
          "name": "stdout",
          "text": [
            "✅ Data successfully prepared for training.\n"
          ]
        }
      ]
    },
    {
      "cell_type": "code",
      "source": [
        "from tensorflow.keras.models import Sequential\n",
        "from tensorflow.keras.layers import Embedding, LSTM, Dense, Dropout, Bidirectional\n",
        "from tensorflow.keras.optimizers import Adam\n",
        "\n",
        "# Define model\n",
        "model = Sequential([\n",
        "    Embedding(input_dim=vocab_size, output_dim=embedding_dim, weights=[embedding_matrix], input_length=max_length, trainable=False),\n",
        "    Bidirectional(LSTM(128, return_sequences=True, activation='tanh')),\n",
        "    Dropout(0.3),\n",
        "    Bidirectional(LSTM(64)),\n",
        "    Dense(3, activation='softmax')  # 3 output classes\n",
        "])\n",
        "\n",
        "# Compile model\n",
        "model.compile(optimizer=Adam(learning_rate=0.0001), loss='categorical_crossentropy', metrics=['accuracy'])\n",
        "\n",
        "# Train model\n",
        "history = model.fit(X_train_seq, y_train, epochs=10, batch_size=64, validation_data=(X_test_seq, y_test))\n"
      ],
      "metadata": {
        "id": "BKIp3uU4V5Cb",
        "colab": {
          "base_uri": "https://localhost:8080/"
        },
        "outputId": "14a568af-c298-4492-fc2d-08eddfac3995"
      },
      "execution_count": 20,
      "outputs": [
        {
          "output_type": "stream",
          "name": "stderr",
          "text": [
            "/usr/local/lib/python3.11/dist-packages/keras/src/layers/core/embedding.py:90: UserWarning: Argument `input_length` is deprecated. Just remove it.\n",
            "  warnings.warn(\n"
          ]
        },
        {
          "output_type": "stream",
          "name": "stdout",
          "text": [
            "Epoch 1/10\n",
            "\u001b[1m1407/1407\u001b[0m \u001b[32m━━━━━━━━━━━━━━━━━━━━\u001b[0m\u001b[37m\u001b[0m \u001b[1m43s\u001b[0m 25ms/step - accuracy: 0.5640 - loss: 0.8945 - val_accuracy: 0.6617 - val_loss: 0.7295\n",
            "Epoch 2/10\n",
            "\u001b[1m1407/1407\u001b[0m \u001b[32m━━━━━━━━━━━━━━━━━━━━\u001b[0m\u001b[37m\u001b[0m \u001b[1m37s\u001b[0m 26ms/step - accuracy: 0.6683 - loss: 0.7245 - val_accuracy: 0.6740 - val_loss: 0.7070\n",
            "Epoch 3/10\n",
            "\u001b[1m1407/1407\u001b[0m \u001b[32m━━━━━━━━━━━━━━━━━━━━\u001b[0m\u001b[37m\u001b[0m \u001b[1m37s\u001b[0m 26ms/step - accuracy: 0.6893 - loss: 0.6896 - val_accuracy: 0.6740 - val_loss: 0.6990\n",
            "Epoch 4/10\n",
            "\u001b[1m1407/1407\u001b[0m \u001b[32m━━━━━━━━━━━━━━━━━━━━\u001b[0m\u001b[37m\u001b[0m \u001b[1m40s\u001b[0m 26ms/step - accuracy: 0.7100 - loss: 0.6530 - val_accuracy: 0.6768 - val_loss: 0.6982\n",
            "Epoch 5/10\n",
            "\u001b[1m1407/1407\u001b[0m \u001b[32m━━━━━━━━━━━━━━━━━━━━\u001b[0m\u001b[37m\u001b[0m \u001b[1m42s\u001b[0m 26ms/step - accuracy: 0.7249 - loss: 0.6244 - val_accuracy: 0.6812 - val_loss: 0.7016\n",
            "Epoch 6/10\n",
            "\u001b[1m1407/1407\u001b[0m \u001b[32m━━━━━━━━━━━━━━━━━━━━\u001b[0m\u001b[37m\u001b[0m \u001b[1m40s\u001b[0m 26ms/step - accuracy: 0.7389 - loss: 0.5983 - val_accuracy: 0.6712 - val_loss: 0.7219\n",
            "Epoch 7/10\n",
            "\u001b[1m1407/1407\u001b[0m \u001b[32m━━━━━━━━━━━━━━━━━━━━\u001b[0m\u001b[37m\u001b[0m \u001b[1m41s\u001b[0m 26ms/step - accuracy: 0.7564 - loss: 0.5689 - val_accuracy: 0.6750 - val_loss: 0.7392\n",
            "Epoch 8/10\n",
            "\u001b[1m1407/1407\u001b[0m \u001b[32m━━━━━━━━━━━━━━━━━━━━\u001b[0m\u001b[37m\u001b[0m \u001b[1m41s\u001b[0m 26ms/step - accuracy: 0.7714 - loss: 0.5368 - val_accuracy: 0.6704 - val_loss: 0.7523\n",
            "Epoch 9/10\n",
            "\u001b[1m1407/1407\u001b[0m \u001b[32m━━━━━━━━━━━━━━━━━━━━\u001b[0m\u001b[37m\u001b[0m \u001b[1m42s\u001b[0m 26ms/step - accuracy: 0.7879 - loss: 0.5034 - val_accuracy: 0.6699 - val_loss: 0.7906\n",
            "Epoch 10/10\n",
            "\u001b[1m1407/1407\u001b[0m \u001b[32m━━━━━━━━━━━━━━━━━━━━\u001b[0m\u001b[37m\u001b[0m \u001b[1m37s\u001b[0m 26ms/step - accuracy: 0.8022 - loss: 0.4785 - val_accuracy: 0.6654 - val_loss: 0.8129\n"
          ]
        }
      ]
    },
    {
      "cell_type": "code",
      "source": [
        "from sklearn.metrics import classification_report, confusion_matrix\n",
        "import seaborn as sns\n",
        "import numpy as np\n",
        "\n",
        "# Predict on test set\n",
        "y_pred = np.argmax(model.predict(X_test_seq), axis=1)\n",
        "y_true = np.argmax(y_test, axis=1)\n",
        "\n",
        "# Classification Report\n",
        "print(\"Classification Report:\\n\", classification_report(y_true, y_pred, target_names=['Negative', 'Mixed', 'Positive']))\n",
        "\n",
        "# Confusion Matrix\n",
        "plt.figure(figsize=(6, 6))\n",
        "sns.heatmap(confusion_matrix(y_true, y_pred), annot=True, fmt='d', cmap='Blues', xticklabels=['Negative', 'Mixed', 'Positive'], yticklabels=['Negative', 'Mixed', 'Positive'])\n",
        "plt.title(\"Confusion Matrix\")\n",
        "plt.show()"
      ],
      "metadata": {
        "id": "7BDRpSUqV5AD",
        "colab": {
          "base_uri": "https://localhost:8080/",
          "height": 764
        },
        "outputId": "38b242fe-a82e-47ee-efad-b38a61dee2b1"
      },
      "execution_count": 21,
      "outputs": [
        {
          "output_type": "stream",
          "name": "stdout",
          "text": [
            "\u001b[1m313/313\u001b[0m \u001b[32m━━━━━━━━━━━━━━━━━━━━\u001b[0m\u001b[37m\u001b[0m \u001b[1m3s\u001b[0m 9ms/step\n",
            "Classification Report:\n",
            "               precision    recall  f1-score   support\n",
            "\n",
            "    Negative       0.75      0.68      0.71      3333\n",
            "       Mixed       0.58      0.59      0.58      3333\n",
            "    Positive       0.68      0.73      0.70      3334\n",
            "\n",
            "    accuracy                           0.67     10000\n",
            "   macro avg       0.67      0.67      0.67     10000\n",
            "weighted avg       0.67      0.67      0.67     10000\n",
            "\n"
          ]
        },
        {
          "output_type": "display_data",
          "data": {
            "text/plain": [
              "<Figure size 600x600 with 2 Axes>"
            ],
            "image/png": "[encoded data removed]"
          },
          "metadata": {}
        }
      ]
    },
    {
      "cell_type": "code",
      "source": [
        "new_sentences = [\"الخدمة كانت رائعة جدا\", \"التجربة كانت سيئة للغاية\", \"كان الموضوع عادياً تماماً\"]\n",
        "new_sequences = pad_sequences(tokenizer.texts_to_sequences(new_sentences), maxlen=max_length, padding='post')\n",
        "\n",
        "predictions = np.argmax(model.predict(new_sequences), axis=1)\n",
        "label_map = {0: \"سلبي\", 1: \"مختلط\", 2: \"إيجابي\"}\n",
        "print(\"🔹 Predictions:\", [label_map[p] for p in predictions])"
      ],
      "metadata": {
        "id": "TwX5je04V45X",
        "colab": {
          "base_uri": "https://localhost:8080/"
        },
        "outputId": "4ca85acb-9733-427d-fba5-d05415d472a6"
      },
      "execution_count": 22,
      "outputs": [
        {
          "output_type": "stream",
          "name": "stdout",
          "text": [
            "\u001b[1m1/1\u001b[0m \u001b[32m━━━━━━━━━━━━━━━━━━━━\u001b[0m\u001b[37m\u001b[0m \u001b[1m0s\u001b[0m 50ms/step\n",
            "🔹 Predictions: ['إيجابي', 'إيجابي', 'سلبي']\n"
          ]
        }
      ]
    }
  ]
}